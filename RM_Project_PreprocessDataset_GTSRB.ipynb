{
  "nbformat": 4,
  "nbformat_minor": 0,
  "metadata": {
    "colab": {
      "name": "RM_Project_PreprocessDataset_GSTRB.ipynb",
      "provenance": [],
      "collapsed_sections": []
    },
    "kernelspec": {
      "name": "python3",
      "display_name": "Python 3"
    },
    "language_info": {
      "name": "python"
    }
  },
  "cells": [
    {
      "cell_type": "code",
      "metadata": {
        "id": "D357E0bSVcGZ"
      },
      "source": [
        "import os\n",
        "import numpy as np\n",
        "import pandas as pd\n",
        "import cv2"
      ],
      "execution_count": null,
      "outputs": []
    },
    {
      "cell_type": "code",
      "metadata": {
        "id": "072fjH1CWqOJ"
      },
      "source": [
        "# Code for Unzip the Zip folder of Dataset\n",
        "# !unzip \"/content/drive/MyDrive/Colab Notebooks/Spring Summer 2021/Research Methodology/Project/GTSRB.zip\" -d \"/content/drive/MyDrive/Colab Notebooks/Spring Summer 2021/Research Methodology/Project/\""
      ],
      "execution_count": null,
      "outputs": []
    },
    {
      "cell_type": "code",
      "metadata": {
        "id": "l3g2zo8bVEkf"
      },
      "source": [
        "# Function to load the train data's images name and their labels\n",
        "def trainDataLoad(path):\n",
        "  data = []s\n",
        "  labels = []\n",
        "  for folder in os.listdir(path):\n",
        "    for img in os.listdir(path + folder):\n",
        "      data.append((path + folder + \"/\" + img))\n",
        "      labels.append(folder)\n",
        "  return np.array(data), np.array(labels)\n",
        "\n",
        "# Images are resized and stored into numpy array\n",
        "def resizeImages(images):\n",
        "  X = np.ndarray((images.shape[0], 32*32*3), dtype=np.uint8)\n",
        "  cr_img = []\n",
        "\n",
        "  for i, img in enumerate(images):\n",
        "    imgRead = cv2.imread(img, cv2.IMREAD_COLOR)\n",
        "    try:\n",
        "      X[i, :] = (cv2.resize(imgRead, (32, 32), interpolation=cv2.INTER_CUBIC)).reshape(32*32*3)       \n",
        "    except:\n",
        "      cr_img.append(i)\n",
        "      print(i,\"  \",img)\n",
        "      print(cr_img)\n",
        "    \n",
        "    if i%1000 == 0:\n",
        "      print(\"Processed Images = {}\".format(i))\n",
        "    if i == (images.shape[0]-1):\n",
        "      print(\"Processed Images = {}\".format(i+1))\n",
        "  return X, cr_img"
      ],
      "execution_count": null,
      "outputs": []
    },
    {
      "cell_type": "code",
      "metadata": {
        "id": "vkfcsut8VOrq",
        "colab": {
          "base_uri": "https://localhost:8080/"
        },
        "outputId": "147a7b93-350c-4bff-d972-b14ecbbe8ed8"
      },
      "source": [
        "print(\"Processing of Training Data\")\n",
        "print(\"---------------------------\")\n",
        "\n",
        "trainPath = \"/content/drive/MyDrive/Colab Notebooks/Spring Summer 2021/Research Methodology/Project/GTSRB/Train/\"\n",
        "trainData, trainLabels = trainDataLoad(trainPath)\n",
        "print(\"Total Training Data = {}\".format(trainData.shape))\n",
        "\n",
        "print(\"\\nResizing of Training Images:\")\n",
        "trainData, corruptListTrain = resizeImages(trainData)\n",
        "print(\"\\nShape of Training Data = {}\".format(trainData.shape))\n",
        "print(\"Shape of Training Labels = {}\".format(trainLabels.shape))"
      ],
      "execution_count": null,
      "outputs": [
        {
          "output_type": "stream",
          "text": [
            "Processing of Training Data\n",
            "---------------------------\n",
            "Total Training Data = (39209,)\n",
            "\n",
            "Resizing of Training Images:\n",
            "Processed Images = 0\n",
            "Processed Images = 1000\n",
            "Processed Images = 2000\n",
            "Processed Images = 3000\n",
            "Processed Images = 4000\n",
            "Processed Images = 5000\n",
            "Processed Images = 6000\n",
            "Processed Images = 7000\n",
            "Processed Images = 8000\n",
            "Processed Images = 9000\n",
            "Processed Images = 10000\n",
            "Processed Images = 11000\n",
            "Processed Images = 12000\n",
            "Processed Images = 13000\n",
            "Processed Images = 14000\n",
            "Processed Images = 15000\n",
            "Processed Images = 16000\n",
            "Processed Images = 17000\n",
            "Processed Images = 18000\n",
            "Processed Images = 19000\n",
            "Processed Images = 20000\n",
            "Processed Images = 21000\n",
            "Processed Images = 22000\n",
            "Processed Images = 23000\n",
            "Processed Images = 24000\n",
            "Processed Images = 25000\n",
            "Processed Images = 26000\n",
            "Processed Images = 27000\n",
            "Processed Images = 28000\n",
            "Processed Images = 29000\n",
            "Processed Images = 30000\n",
            "Processed Images = 31000\n",
            "Processed Images = 32000\n",
            "Processed Images = 33000\n",
            "Processed Images = 34000\n",
            "Processed Images = 35000\n",
            "Processed Images = 36000\n",
            "Processed Images = 37000\n",
            "Processed Images = 38000\n",
            "Processed Images = 39000\n",
            "Processed Images = 39209\n",
            "\n",
            "Shape of Training Data = (39209, 3072)\n",
            "Shape of Training Labels = (39209,)\n"
          ],
          "name": "stdout"
        }
      ]
    },
    {
      "cell_type": "code",
      "metadata": {
        "id": "xo0YJgtqVQ7Y",
        "colab": {
          "base_uri": "https://localhost:8080/"
        },
        "outputId": "bdde8ad0-f463-4b52-fba1-aa144fc9d3c8"
      },
      "source": [
        "Xtrain = np.delete(trainData, corruptListTrain, 0)\n",
        "Ytrain = np.delete(trainLabels, corruptListTrain, 0)\n",
        "print(Xtrain.shape, Ytrain.shape)\n",
        "\n",
        "# Save the Resized Training Data and Training Labels into numpy file\n",
        "np.save('/content/drive/MyDrive/Colab Notebooks/Spring Summer 2021/Research Methodology/Project/trainData_32.npy', Xtrain)\n",
        "np.save('/content/drive/MyDrive/Colab Notebooks/Spring Summer 2021/Research Methodology/Project/trainLabels_32.npy', Ytrain)"
      ],
      "execution_count": null,
      "outputs": [
        {
          "output_type": "stream",
          "text": [
            "(39209, 3072) (39209,)\n"
          ],
          "name": "stdout"
        }
      ]
    },
    {
      "cell_type": "code",
      "metadata": {
        "id": "BnwH8HMeVTF0",
        "colab": {
          "base_uri": "https://localhost:8080/"
        },
        "outputId": "5753ed0c-ea55-4d53-eb0e-d10048650517"
      },
      "source": [
        "print(\"Processing of Testing Data\")\n",
        "print(\"---------------------------\")\n",
        "\n",
        "testFile = pd.read_csv(\"/content/drive/MyDrive/Colab Notebooks/Spring Summer 2021/Research Methodology/Project/GTSRB/Test.csv\")\n",
        "testPath = \"/content/drive/MyDrive/Colab Notebooks/Spring Summer 2021/Research Methodology/Project/GTSRB/\"\n",
        "testData = testPath + testFile['Path'].values\n",
        "testLabels = testFile['ClassId'].values\n",
        "print(\"Total Testing Data = {}\".format(testData.shape))\n",
        "\n",
        "print(\"\\nResizing of Testing Images:\")\n",
        "testData, corruptListTest = resizeImages(testData)\n",
        "print(\"\\nShape of Testing Data = {}\".format(testData.shape))\n",
        "print(\"Shape of Testing Labels = {}\".format(testLabels.shape))"
      ],
      "execution_count": null,
      "outputs": [
        {
          "output_type": "stream",
          "text": [
            "Processing of Testing Data\n",
            "---------------------------\n",
            "Total Testing Data = (12630,)\n",
            "\n",
            "Resizing of Testing Images:\n",
            "Processed Images = 0\n",
            "Processed Images = 1000\n",
            "Processed Images = 2000\n",
            "Processed Images = 3000\n",
            "Processed Images = 4000\n",
            "Processed Images = 5000\n",
            "Processed Images = 6000\n",
            "Processed Images = 7000\n",
            "Processed Images = 8000\n",
            "Processed Images = 9000\n",
            "Processed Images = 10000\n",
            "Processed Images = 11000\n",
            "Processed Images = 12000\n",
            "Processed Images = 12630\n",
            "\n",
            "Shape of Testing Data = (12630, 3072)\n",
            "Shape of Testing Labels = (12630,)\n"
          ],
          "name": "stdout"
        }
      ]
    },
    {
      "cell_type": "code",
      "metadata": {
        "id": "SdRvmPjQVVmI",
        "colab": {
          "base_uri": "https://localhost:8080/"
        },
        "outputId": "a6c3c3f6-54bb-44a0-f9f4-7b636b118d91"
      },
      "source": [
        "Xtest = np.delete(testData, corruptListTest, 0)\n",
        "Ytest = np.delete(testLabels, corruptListTest, 0)\n",
        "print(Xtest.shape, Ytest.shape)\n",
        "\n",
        "# Save the Resized Testing Data and Testing Labels into numpy file\n",
        "np.save('/content/drive/MyDrive/Colab Notebooks/Spring Summer 2021/Research Methodology/Project/testData_32.npy', Xtest)\n",
        "np.save('/content/drive/MyDrive/Colab Notebooks/Spring Summer 2021/Research Methodology/Project/testLabels_32.npy', Ytest)"
      ],
      "execution_count": null,
      "outputs": [
        {
          "output_type": "stream",
          "text": [
            "(12630, 3072) (12630,)\n"
          ],
          "name": "stdout"
        }
      ]
    }
  ]
}