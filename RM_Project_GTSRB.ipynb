{
  "nbformat": 4,
  "nbformat_minor": 0,
  "metadata": {
    "colab": {
      "name": "RM_Project_GTSRB.ipynb",
      "provenance": [],
      "collapsed_sections": []
    },
    "kernelspec": {
      "name": "python3",
      "display_name": "Python 3"
    },
    "language_info": {
      "name": "python"
    },
    "accelerator": "GPU"
  },
  "cells": [
    {
      "cell_type": "code",
      "metadata": {
        "id": "4clDE9uXWfUv"
      },
      "source": [
        "import numpy as np\n",
        "import tensorflow as tf\n",
        "import keras\n",
        "from keras.utils import np_utils\n",
        "from keras.applications.resnet import ResNet50, preprocess_input\n",
        "from keras.models import Model, Sequential\n",
        "from keras.layers import Conv2D, MaxPooling2D, Dense, Flatten, Dropout\n",
        "from keras.optimizers import SGD\n",
        "import matplotlib.pyplot as plt\n",
        "from sklearn.metrics import classification_report, confusion_matrix"
      ],
      "execution_count": null,
      "outputs": []
    },
    {
      "cell_type": "code",
      "metadata": {
        "colab": {
          "base_uri": "https://localhost:8080/"
        },
        "id": "mvEPCmjJWzax",
        "outputId": "b7de0ceb-0327-4bbc-ed4d-678a309b5cfe"
      },
      "source": [
        "# Load Training Data and Testing Data\n",
        "trainData = np.load(\"/content/drive/MyDrive/Colab Notebooks/Spring Summer 2021/Research Methodology/Project/trainData_32.npy\")\n",
        "trainLabels = np.load(\"/content/drive/MyDrive/Colab Notebooks/Spring Summer 2021/Research Methodology/Project/trainLabels_32.npy\")\n",
        "testData = np.load(\"/content/drive/MyDrive/Colab Notebooks/Spring Summer 2021/Research Methodology/Project/testData_32.npy\")\n",
        "testLabels = np.load(\"/content/drive/MyDrive/Colab Notebooks/Spring Summer 2021/Research Methodology/Project/testLabels_32.npy\")\n",
        "\n",
        "# Reshape Training and Testing Data\n",
        "trainData = np.reshape(trainData, (trainData.shape[0], 32, 32, 3))\n",
        "testData = np.reshape(testData, (testData.shape[0], 32, 32, 3))\n",
        "\n",
        "# Preprocessing Training and Testing Data\n",
        "XtrainNorm = preprocess_input(trainData)\n",
        "XtestNorm = preprocess_input(testData)\n",
        "\n",
        "# One-Hot Encoding of Training and Testing Labels\n",
        "YtrainEncoded = np_utils.to_categorical(trainLabels, 43)\n",
        "YtestEncoded = np_utils.to_categorical(testLabels, 43)\n",
        "\n",
        "print(\"Shape of Training Data:   {}\".format(XtrainNorm.shape))\n",
        "print(\"Shape of Training Labels: {}\".format(YtrainEncoded.shape))\n",
        "\n",
        "print(\"\\nShape of Testing Data:    {}\".format(XtestNorm.shape))\n",
        "print(\"Shape of Testing Labels:  {}\".format(YtestEncoded.shape))"
      ],
      "execution_count": null,
      "outputs": [
        {
          "output_type": "stream",
          "text": [
            "Shape of Training Data:   (39209, 32, 32, 3)\n",
            "Shape of Training Labels: (39209, 43)\n",
            "\n",
            "Shape of Testing Data:    (12630, 32, 32, 3)\n",
            "Shape of Testing Labels:  (12630, 43)\n"
          ],
          "name": "stdout"
        }
      ]
    },
    {
      "cell_type": "code",
      "metadata": {
        "colab": {
          "base_uri": "https://localhost:8080/",
          "height": 1000
        },
        "id": "YQcJ7YU6hKm6",
        "outputId": "501b4f3b-d3a8-43cf-e7ee-696a0970cdca"
      },
      "source": [
        "# Building a custom CNN model\n",
        "model = Sequential()\n",
        "\n",
        "# Block 1:- 2-Convolution Layers, 1-MaxPooling Layer & 1-Dropout Layer\n",
        "model.add(Conv2D(32, (3, 3), padding='same', activation='relu', input_shape=(32, 32, 3)))\n",
        "model.add(Conv2D(64, (3, 3), padding='same', activation='relu'))\n",
        "model.add(MaxPooling2D((2, 2)))\n",
        "model.add(Dropout(0.2))\n",
        "\n",
        "# Block 2:- 2-Convolution Layers, 1-MaxPooling Layer & 1-Dropout Layer\n",
        "model.add(Conv2D(64, (3, 3), padding='same', activation='relu'))\n",
        "model.add(Conv2D(128, (3, 3), padding='same', activation='relu'))\n",
        "model.add(MaxPooling2D((2, 2)))\n",
        "model.add(Dropout(0.3))\n",
        "\n",
        "# Block 3:- 2-Convolution Layers, 1-MaxPooling Layer & 1-Dropout Layer\n",
        "model.add(Conv2D(128, (3, 3), padding='same', activation='relu'))\n",
        "model.add(Conv2D(256, (3, 3), padding='same', activation='relu'))\n",
        "model.add(MaxPooling2D((2, 2)))\n",
        "model.add(Dropout(0.4))\n",
        "\n",
        "# Block 4:- 2-Convolution Layers, 1-MaxPooling Layer & 1-Dropout Layer\n",
        "model.add(Conv2D(256, (3, 3), padding='same', activation='relu'))\n",
        "model.add(Conv2D(512, (3, 3), padding='same', activation='relu'))\n",
        "model.add(MaxPooling2D((2, 2)))\n",
        "model.add(Dropout(0.5))\n",
        "\n",
        "# Flatten Layer\n",
        "model.add(Flatten(name='flatten'))\n",
        "\n",
        "# FC1 Layer\n",
        "model.add(Dense(1024, activation='relu', name='fc1'))\n",
        "\n",
        "# FC2 Layer\n",
        "model.add(Dense(512, activation='relu', name='fc2'))\n",
        "\n",
        "# Output Layer\n",
        "model.add(Dense(43, activation='softmax', name='output'))\n",
        "\n",
        "# Model compiled using SGD Optimizier\n",
        "model.compile(loss='categorical_crossentropy', optimizer = SGD(learning_rate=0.001, momentum=0.9, decay=0.00001), metrics = ['accuracy'])\n",
        "\n",
        "# Model Fitting\n",
        "history = model.fit(XtrainNorm, YtrainEncoded, batch_size=32, shuffle=True, epochs=20, validation_data=(XtestNorm, YtestEncoded))\n",
        "\n",
        "# Model Evaluating for Training Data\n",
        "training = model.evaluate(XtrainNorm, YtrainEncoded)\n",
        "trainingAcc = training[-1]*100\n",
        "print(\"Training Accuracy = {}%\".format(trainingAcc))\n",
        "\n",
        "# Model Evaluating for Testing Data\n",
        "testing = model.evaluate(XtestNorm, YtestEncoded, batch_size=1)\n",
        "testingAcc = testing[-1]*100\n",
        "print(\"Testing Accuracy = {}%\".format(testingAcc))\n",
        "\n",
        "# Plotting Loss and Accuracy Curves\n",
        "plt.figure(figsize=[8,6])\n",
        "plt.plot(history.history['loss'], 'firebrick', linewidth=3.0)\n",
        "plt.plot(history.history['accuracy'], 'turquoise', linewidth=3.0)\n",
        "plt.legend(['Training Loss','Training Accuracy'], fontsize=18)\n",
        "plt.xlabel('Epochs', fontsize=16)\n",
        "plt.ylabel('Loss and Accuracy', fontsize=16)\n",
        "plt.title('Loss and Accuracy Curves', fontsize=16)"
      ],
      "execution_count": null,
      "outputs": [
        {
          "output_type": "stream",
          "text": [
            "Epoch 1/20\n",
            "1226/1226 [==============================] - 82s 30ms/step - loss: 3.4508 - accuracy: 0.0872 - val_loss: 2.0237 - val_accuracy: 0.3593\n",
            "Epoch 2/20\n",
            "1226/1226 [==============================] - 37s 30ms/step - loss: 1.8978 - accuracy: 0.3944 - val_loss: 1.2272 - val_accuracy: 0.5969\n",
            "Epoch 3/20\n",
            "1226/1226 [==============================] - 35s 28ms/step - loss: 1.0317 - accuracy: 0.6580 - val_loss: 0.4206 - val_accuracy: 0.8644\n",
            "Epoch 4/20\n",
            "1226/1226 [==============================] - 35s 29ms/step - loss: 0.4023 - accuracy: 0.8665 - val_loss: 0.2646 - val_accuracy: 0.9250\n",
            "Epoch 5/20\n",
            "1226/1226 [==============================] - 36s 29ms/step - loss: 0.2158 - accuracy: 0.9304 - val_loss: 0.2163 - val_accuracy: 0.9514\n",
            "Epoch 6/20\n",
            "1226/1226 [==============================] - 36s 29ms/step - loss: 0.1326 - accuracy: 0.9598 - val_loss: 0.1754 - val_accuracy: 0.9580\n",
            "Epoch 7/20\n",
            "1226/1226 [==============================] - 38s 31ms/step - loss: 0.0943 - accuracy: 0.9715 - val_loss: 0.2127 - val_accuracy: 0.9546\n",
            "Epoch 8/20\n",
            "1226/1226 [==============================] - 35s 29ms/step - loss: 0.0738 - accuracy: 0.9767 - val_loss: 0.1465 - val_accuracy: 0.9628\n",
            "Epoch 9/20\n",
            "1226/1226 [==============================] - 35s 29ms/step - loss: 0.0528 - accuracy: 0.9848 - val_loss: 0.1551 - val_accuracy: 0.9676\n",
            "Epoch 10/20\n",
            "1226/1226 [==============================] - 35s 29ms/step - loss: 0.0442 - accuracy: 0.9867 - val_loss: 0.1928 - val_accuracy: 0.9634\n",
            "Epoch 11/20\n",
            "1226/1226 [==============================] - 35s 29ms/step - loss: 0.0443 - accuracy: 0.9866 - val_loss: 0.1312 - val_accuracy: 0.9706\n",
            "Epoch 12/20\n",
            "1226/1226 [==============================] - 35s 29ms/step - loss: 0.0334 - accuracy: 0.9896 - val_loss: 0.1645 - val_accuracy: 0.9684\n",
            "Epoch 13/20\n",
            "1226/1226 [==============================] - 35s 29ms/step - loss: 0.0300 - accuracy: 0.9908 - val_loss: 0.1646 - val_accuracy: 0.9683\n",
            "Epoch 14/20\n",
            "1226/1226 [==============================] - 38s 31ms/step - loss: 0.0246 - accuracy: 0.9921 - val_loss: 0.1970 - val_accuracy: 0.9629\n",
            "Epoch 15/20\n",
            "1226/1226 [==============================] - 36s 29ms/step - loss: 0.0224 - accuracy: 0.9924 - val_loss: 0.1999 - val_accuracy: 0.9687\n",
            "Epoch 16/20\n",
            "1226/1226 [==============================] - 35s 29ms/step - loss: 0.0271 - accuracy: 0.9917 - val_loss: 0.1563 - val_accuracy: 0.9639\n",
            "Epoch 17/20\n",
            "1226/1226 [==============================] - 36s 29ms/step - loss: 0.0207 - accuracy: 0.9936 - val_loss: 0.1724 - val_accuracy: 0.9720\n",
            "Epoch 18/20\n",
            "1226/1226 [==============================] - 36s 29ms/step - loss: 0.0162 - accuracy: 0.9953 - val_loss: 0.1312 - val_accuracy: 0.9729\n",
            "Epoch 19/20\n",
            "1226/1226 [==============================] - 35s 29ms/step - loss: 0.0155 - accuracy: 0.9953 - val_loss: 0.1628 - val_accuracy: 0.9719\n",
            "Epoch 20/20\n",
            "1226/1226 [==============================] - 35s 29ms/step - loss: 0.0176 - accuracy: 0.9949 - val_loss: 0.1435 - val_accuracy: 0.9760\n",
            "1226/1226 [==============================] - 11s 9ms/step - loss: 9.8708e-04 - accuracy: 0.9998\n",
            "Training Accuracy = 99.98469948768616%\n",
            "12630/12630 [==============================] - 74s 6ms/step - loss: 0.1435 - accuracy: 0.9760\n",
            "Testing Accuracy = 97.60094881057739%\n"
          ],
          "name": "stdout"
        },
        {
          "output_type": "execute_result",
          "data": {
            "text/plain": [
              "Text(0.5, 1.0, 'Loss and Accuracy Curves')"
            ]
          },
          "metadata": {
            "tags": []
          },
          "execution_count": 3
        },
        {
          "output_type": "display_data",
          "data": {
            "image/png": "[encoded data removed]",
            "text/plain": [
              "<Figure size 576x432 with 1 Axes>"
            ]
          },
          "metadata": {
            "tags": [],
            "needs_background": "light"
          }
        }
      ]
    },
    {
      "cell_type": "code",
      "metadata": {
        "id": "FexN81Jhhtos",
        "colab": {
          "base_uri": "https://localhost:8080/"
        },
        "outputId": "937f98c4-f29b-4ec7-ff68-0af5d33826c6"
      },
      "source": [
        "# Predicting Labels for Testing Data\n",
        "predictedY = model.predict(XtestNorm)\n",
        "Ytest = np.argmax(YtestEncoded, axis = 1)\n",
        "YPred = np.argmax(predictedY, axis = 1)\n",
        "\n",
        "# Classification Report for Testing Data\n",
        "print(\"Classification Report: \")\n",
        "print(classification_report(Ytest, YPred))\n",
        "\n",
        "# Confusion Matrix for Testing Data\n",
        "print(\"Confusion Matrix: \")\n",
        "print(confusion_matrix(Ytest, YPred))"
      ],
      "execution_count": null,
      "outputs": [
        {
          "output_type": "stream",
          "text": [
            "Classification Report: \n",
            "              precision    recall  f1-score   support\n",
            "\n",
            "           0       1.00      0.98      0.99        60\n",
            "           1       0.99      0.99      0.99       720\n",
            "           2       0.98      1.00      0.99       750\n",
            "           3       0.98      0.96      0.97       450\n",
            "           4       1.00      0.99      0.99       660\n",
            "           5       0.96      0.99      0.97       630\n",
            "           6       0.96      0.97      0.97       150\n",
            "           7       0.99      0.99      0.99       450\n",
            "           8       0.99      0.94      0.96       450\n",
            "           9       0.98      1.00      0.99       480\n",
            "          10       1.00      1.00      1.00       660\n",
            "          11       0.90      0.98      0.94       420\n",
            "          12       1.00      0.97      0.98       690\n",
            "          13       1.00      1.00      1.00       720\n",
            "          14       1.00      1.00      1.00       270\n",
            "          15       0.95      1.00      0.97       210\n",
            "          16       0.97      1.00      0.98       150\n",
            "          17       1.00      1.00      1.00       360\n",
            "          18       0.97      0.96      0.96       390\n",
            "          19       1.00      1.00      1.00        60\n",
            "          20       0.91      1.00      0.95        90\n",
            "          21       0.76      0.70      0.73        90\n",
            "          22       1.00      0.93      0.96       120\n",
            "          23       0.92      1.00      0.96       150\n",
            "          24       0.92      0.99      0.95        90\n",
            "          25       0.98      0.93      0.96       480\n",
            "          26       0.99      0.99      0.99       180\n",
            "          27       0.78      0.52      0.62        60\n",
            "          28       0.97      0.98      0.98       150\n",
            "          29       0.75      1.00      0.86        90\n",
            "          30       1.00      0.77      0.87       150\n",
            "          31       0.99      1.00      1.00       270\n",
            "          32       0.97      1.00      0.98        60\n",
            "          33       1.00      1.00      1.00       210\n",
            "          34       0.93      1.00      0.96       120\n",
            "          35       0.98      1.00      0.99       390\n",
            "          36       0.99      0.98      0.99       120\n",
            "          37       0.97      0.97      0.97        60\n",
            "          38       1.00      0.99      0.99       690\n",
            "          39       1.00      0.98      0.99        90\n",
            "          40       0.93      0.97      0.95        90\n",
            "          41       0.96      0.80      0.87        60\n",
            "          42       0.99      0.98      0.98        90\n",
            "\n",
            "    accuracy                           0.98     12630\n",
            "   macro avg       0.96      0.96      0.96     12630\n",
            "weighted avg       0.98      0.98      0.98     12630\n",
            "\n",
            "Confusion Matrix: \n",
            "[[ 59   0   0 ...   0   0   0]\n",
            " [  0 716   2 ...   0   0   0]\n",
            " [  0   2 747 ...   0   0   0]\n",
            " ...\n",
            " [  0   1   0 ...  87   0   0]\n",
            " [  0   0   0 ...   0  48   0]\n",
            " [  0   0   0 ...   0   2  88]]\n"
          ],
          "name": "stdout"
        }
      ]
    }
  ]
}